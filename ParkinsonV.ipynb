{
 "cells": [
  {
   "cell_type": "code",
   "execution_count": 1,
   "metadata": {},
   "outputs": [],
   "source": [
    "import yfinance as yf\n",
    "import pandas as pd\n",
    "import numpy as np"
   ]
  },
  {
   "cell_type": "code",
   "execution_count": 2,
   "metadata": {},
   "outputs": [],
   "source": [
    "#Basic functions contruction\n",
    "def volatility(close):\n",
    "    log_rets = np.log(close/close.shift())\n",
    "    return log_rets.std() * 250**0.5\n",
    "\n",
    "def parkinson_volatility(high, low):\n",
    "    log_hl = np.log(high / low)\n",
    "    squared_log_hl = log_hl ** 2\n",
    "    factor = 1 / (4 * np.log(2))\n",
    "    parkinson_vol = np.sqrt(factor * squared_log_hl.mean())\n",
    "    return parkinson_vol * 250**0.5"
   ]
  },
  {
   "cell_type": "code",
   "execution_count": 3,
   "metadata": {},
   "outputs": [],
   "source": [
    "#Get CEDEARS tickers\n",
    "string = open(\"CEDEARS.txt\")\n",
    "string = string.read().replace(\"\\n\" , \" \")"
   ]
  },
  {
   "cell_type": "code",
   "execution_count": 4,
   "metadata": {},
   "outputs": [
    {
     "name": "stderr",
     "output_type": "stream",
     "text": [
      "[***********           22%%                      ]  102 of 458 completed"
     ]
    },
    {
     "name": "stdout",
     "output_type": "stream",
     "text": [
      "$HWMD.BA: possibly delisted; No price data found  (period=3mo)\n"
     ]
    },
    {
     "name": "stderr",
     "output_type": "stream",
     "text": [
      "[************          26%%                      ]  118 of 458 completed"
     ]
    },
    {
     "name": "stdout",
     "output_type": "stream",
     "text": [
      "$BKD.BA: possibly delisted; No price data found  (period=3mo)\n"
     ]
    },
    {
     "name": "stderr",
     "output_type": "stream",
     "text": [
      "[**************        30%%                      ]  136 of 458 completed"
     ]
    },
    {
     "name": "stdout",
     "output_type": "stream",
     "text": [
      "$ADID.BA: possibly delisted; No price data found  (period=3mo)\n"
     ]
    },
    {
     "name": "stderr",
     "output_type": "stream",
     "text": [
      "[*******************   39%%                      ]  177 of 458 completed"
     ]
    },
    {
     "name": "stdout",
     "output_type": "stream",
     "text": [
      "$AIGD.BA: possibly delisted; No price data found  (period=3mo)\n"
     ]
    },
    {
     "name": "stderr",
     "output_type": "stream",
     "text": [
      "[**********************52%%                      ]  240 of 458 completed"
     ]
    },
    {
     "name": "stdout",
     "output_type": "stream",
     "text": [
      "$YYD.BA: possibly delisted; No price data found  (period=3mo)\n"
     ]
    },
    {
     "name": "stderr",
     "output_type": "stream",
     "text": [
      "[**********************54%%                      ]  247 of 458 completed"
     ]
    },
    {
     "name": "stdout",
     "output_type": "stream",
     "text": [
      "$HPQD.BA: possibly delisted; No price data found  (period=3mo)\n"
     ]
    },
    {
     "name": "stderr",
     "output_type": "stream",
     "text": [
      "[**********************65%%*****                 ]  299 of 458 completed"
     ]
    },
    {
     "name": "stdout",
     "output_type": "stream",
     "text": [
      "$HOND.BA: possibly delisted; No price data found  (period=3mo)\n"
     ]
    },
    {
     "name": "stderr",
     "output_type": "stream",
     "text": [
      "[**********************71%%********              ]  324 of 458 completed"
     ]
    },
    {
     "name": "stdout",
     "output_type": "stream",
     "text": [
      "$UGPD.BA: possibly delisted; No price data found  (period=3mo)\n"
     ]
    },
    {
     "name": "stderr",
     "output_type": "stream",
     "text": [
      "[**********************74%%**********            ]  337 of 458 completed"
     ]
    },
    {
     "name": "stdout",
     "output_type": "stream",
     "text": [
      "$CBRDD.BA: possibly delisted; No price data found  (period=3mo)\n"
     ]
    },
    {
     "name": "stderr",
     "output_type": "stream",
     "text": [
      "[**********************95%%********************  ]  437 of 458 completed"
     ]
    },
    {
     "name": "stdout",
     "output_type": "stream",
     "text": [
      "$BRFSD.BA: possibly delisted; No price data found  (period=3mo)\n"
     ]
    },
    {
     "name": "stderr",
     "output_type": "stream",
     "text": [
      "[*********************100%%**********************]  457 of 458 completed\n",
      "\n",
      "123 Failed downloads:\n",
      "[*********************100%%**********************]  457 of 458 completed['MDLZD.BA', 'TWLOD.BA', 'PAGS.BA', 'LACD.BA', 'PBR.BA', 'SNOW.BA', 'CCLD.BA', 'LRCX.BA', 'AVGO.BA', 'TWLO.BA', 'BRKBD.BA', 'COIND.BA', 'STLAD.BA', 'TEN.BA', 'SHOP.BA', 'MRVLD.BA', 'COIN.BA', 'ZM.BA', 'RACED.BA', 'UNH.BA', 'RIOTD.BA', 'DOW.BA', 'HAL.BA', 'YY.BA', 'PAASD.BA', 'NIOD.BA', 'HSY.BA', 'META.BA', 'PSX.BA', 'DDD.BA', 'WBA.BA', 'SDA.BA', 'PKS.BA', 'CAAP.BA', 'SPOT.BA', 'CVSD.BA', 'AAL.BA', 'SED.BA', 'SE.BA', 'DOWD.BA', 'ACND.BA', 'GGBD.BA', 'MA.BA', 'DOCU.BA', 'SPGID.BA', 'ETSY.BA', 'DALD.BA', 'BMYD.BA', 'GMD.BA', 'NTES.BA', 'QQQD.BA', 'NUD.BA', 'GPRK.BA', 'VIST.BA', 'TEFO.BA', 'GM.BA', 'XLED.BA', 'PLTRD.BA', 'NIO.BA', 'SQ.BA', 'LRCXD.BA', 'UNP.BA', 'EA.BA']: YFInvalidPeriodError(\"%ticker%: Period '3mo' is invalid, must be one of ['1d', '5d']\")\n",
      "['SHPWD.BA', 'PMD.BA', 'CDED.BA', 'LVSD.BA', 'PAGSD.BA', 'CARD.BA', 'ADPD.BA', 'GLWD.BA', 'BA.C.BA', 'SWKS.BA', 'FSLRD.BA', 'STNED.BA', 'AAPD.BA', 'NOKAD.BA', 'IBND.BA', 'SWKSD.BA', 'SPCED.BA', 'HMCD.BA', 'AEGD.BA', 'BKNGD.BA', 'BHPD.BA', 'TVD.BA', 'CD.BA', 'USBD.BA', 'TMUSD.BA', 'BA.CD.BA', 'MUXD.BA', 'NTCOD.BA', 'SCHW.BA', 'BCSD.BA', 'BB.D.BA', 'KGCD.BA', 'MSID.BA', 'PHGD.BA', 'INFYD.BA', 'BSBRD.BA', 'SAND.BA', 'SDAD.BA', 'MRNAD.BA', 'SYYD.BA', 'DEOD.BA', 'LYGD.BA', 'PKSD.BA', 'PINSD.BA', 'SIDD.BA', 'GFID.BA', 'SCHWD.BA', 'TEFOD.BA', 'AEMD.BA', 'ROKUD.BA']: YFChartError('%ticker%: No data found, symbol may be delisted')\n",
      "['HWMD.BA', 'BKD.BA', 'ADID.BA', 'AIGD.BA', 'YYD.BA', 'HPQD.BA', 'HOND.BA', 'UGPD.BA', 'CBRDD.BA', 'BRFSD.BA']: YFPricesMissingError('$%ticker%: possibly delisted; No price data found  (period=3mo)')\n"
     ]
    }
   ],
   "source": [
    "#download dataframe from yfinance with information of last 3 months\n",
    "market=yf.Tickers(string)\n",
    "stocks_df = market.history(period=\"3mo\")"
   ]
  },
  {
   "cell_type": "code",
   "execution_count": 5,
   "metadata": {},
   "outputs": [
    {
     "data": {
      "text/html": [
       "<div>\n",
       "<style scoped>\n",
       "    .dataframe tbody tr th:only-of-type {\n",
       "        vertical-align: middle;\n",
       "    }\n",
       "\n",
       "    .dataframe tbody tr th {\n",
       "        vertical-align: top;\n",
       "    }\n",
       "\n",
       "    .dataframe thead th {\n",
       "        text-align: right;\n",
       "    }\n",
       "</style>\n",
       "<table border=\"1\" class=\"dataframe\">\n",
       "  <thead>\n",
       "    <tr style=\"text-align: right;\">\n",
       "      <th></th>\n",
       "      <th>Parkinson_Volatility</th>\n",
       "      <th>Volatility</th>\n",
       "      <th>Difference</th>\n",
       "    </tr>\n",
       "    <tr>\n",
       "      <th>Ticker</th>\n",
       "      <th></th>\n",
       "      <th></th>\n",
       "      <th></th>\n",
       "    </tr>\n",
       "  </thead>\n",
       "  <tbody>\n",
       "    <tr>\n",
       "      <th>AAL.BA</th>\n",
       "      <td>NaN</td>\n",
       "      <td>NaN</td>\n",
       "      <td>NaN</td>\n",
       "    </tr>\n",
       "    <tr>\n",
       "      <th>AALD.BA</th>\n",
       "      <td>0.508317</td>\n",
       "      <td>0.494704</td>\n",
       "      <td>0.013613</td>\n",
       "    </tr>\n",
       "    <tr>\n",
       "      <th>AAP.BA</th>\n",
       "      <td>0.534083</td>\n",
       "      <td>0.596900</td>\n",
       "      <td>-0.062817</td>\n",
       "    </tr>\n",
       "    <tr>\n",
       "      <th>AAPD.BA</th>\n",
       "      <td>NaN</td>\n",
       "      <td>NaN</td>\n",
       "      <td>NaN</td>\n",
       "    </tr>\n",
       "    <tr>\n",
       "      <th>AAPL.BA</th>\n",
       "      <td>0.292920</td>\n",
       "      <td>0.278458</td>\n",
       "      <td>0.014462</td>\n",
       "    </tr>\n",
       "  </tbody>\n",
       "</table>\n",
       "</div>"
      ],
      "text/plain": [
       "         Parkinson_Volatility  Volatility  Difference\n",
       "Ticker                                               \n",
       "AAL.BA                    NaN         NaN         NaN\n",
       "AALD.BA              0.508317    0.494704    0.013613\n",
       "AAP.BA               0.534083    0.596900   -0.062817\n",
       "AAPD.BA                   NaN         NaN         NaN\n",
       "AAPL.BA              0.292920    0.278458    0.014462"
      ]
     },
     "execution_count": 5,
     "metadata": {},
     "output_type": "execute_result"
    }
   ],
   "source": [
    "#Create our main dataframe to work with\n",
    "pv = parkinson_volatility(stocks_df['High'], stocks_df['Low'])\n",
    "v = volatility(stocks_df['Close'])\n",
    "\n",
    "v_df = pv.to_frame(name=\"Parkinson_Volatility\")\n",
    "v_df[\"Volatility\"] = v\n",
    "v_df[\"Difference\"] = pv - v \n",
    "v_df.head()"
   ]
  },
  {
   "cell_type": "code",
   "execution_count": 6,
   "metadata": {},
   "outputs": [
    {
     "name": "stdout",
     "output_type": "stream",
     "text": [
      "Data loss after dropn NaN:  0.6877729257641921\n",
      "Number of stocks remaining:  458\n"
     ]
    }
   ],
   "source": [
    "print(\"Data loss after dropn NaN: \" , len(v_df.dropna())/ len(v_df))\n",
    "print(\"Number of stocks remaining: \" , len(v_df))\n",
    "v_df.dropna(inplace=True)"
   ]
  },
  {
   "cell_type": "code",
   "execution_count": 7,
   "metadata": {},
   "outputs": [],
   "source": [
    "import seaborn as sns\n",
    "import matplotlib.pyplot as plt \n",
    "\n",
    "#This function has 2 parameters: dif and v \n",
    "#Return TOP-20 stocks with Difference(pv - v) > dif and Volatility < v\n",
    "#in others words this function helps the user to find the stocks with a minimum Difference given an upper bound of volatility\n",
    "\n",
    "def find_ticker(dif , v):\n",
    "\n",
    "    df = v_df[(v_df.Difference > 0) & (v_df.Difference > dif) & (v_df.Volatility < v)]\n",
    "    if len(df)==0:\n",
    "        return print(\"No stocks founded\")\n",
    "    plt.figure(figsize=(24,12))\n",
    "    plt.title(f\"Difference between Volatility and Parkinson volatility TOP-20 (Difference > {dif} , Volatility < {v})\")\n",
    "    sns.barplot(df.Difference.sort_values(ascending=False).head(20))"
   ]
  },
  {
   "cell_type": "code",
   "execution_count": 8,
   "metadata": {},
   "outputs": [
    {
     "data": {
      "image/png": "[encoded data removed]",
      "text/plain": [
       "<Figure size 2400x1200 with 1 Axes>"
      ]
     },
     "metadata": {},
     "output_type": "display_data"
    }
   ],
   "source": [
    "find_ticker(0.1 , 0.5)"
   ]
  },
  {
   "cell_type": "code",
   "execution_count": 9,
   "metadata": {},
   "outputs": [],
   "source": [
    "import pickle \n",
    "\n",
    "pickle.dump(find_ticker , open(\"find_ticker\" , \"wb\"))"
   ]
  }
 ],
 "metadata": {
  "kernelspec": {
   "display_name": "Python 3",
   "language": "python",
   "name": "python3"
  },
  "language_info": {
   "codemirror_mode": {
    "name": "ipython",
    "version": 3
   },
   "file_extension": ".py",
   "mimetype": "text/x-python",
   "name": "python",
   "nbconvert_exporter": "python",
   "pygments_lexer": "ipython3",
   "version": "3.12.0"
  }
 },
 "nbformat": 4,
 "nbformat_minor": 2
}
