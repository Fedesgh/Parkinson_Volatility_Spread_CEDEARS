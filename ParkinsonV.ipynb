{
 "cells": [
  {
   "cell_type": "code",
   "execution_count": 1,
   "metadata": {},
   "outputs": [],
   "source": [
    "import yfinance as yf\n",
    "import pandas as pd\n",
    "import numpy as np"
   ]
  },
  {
   "cell_type": "code",
   "execution_count": 2,
   "metadata": {},
   "outputs": [],
   "source": [
    "#Basic functions contruction\n",
    "def volatility(close):\n",
    "    log_rets = np.log(close/close.shift())\n",
    "    return log_rets.std() * 250**0.5\n",
    "\n",
    "def parkinson_volatility(high, low):\n",
    "    log_hl = np.log(high / low)\n",
    "    squared_log_hl = log_hl ** 2\n",
    "    factor = 1 / (4 * np.log(2))\n",
    "    parkinson_vol = np.sqrt(factor * squared_log_hl.mean())\n",
    "    return parkinson_vol * 250**0.5"
   ]
  },
  {
   "cell_type": "code",
   "execution_count": 3,
   "metadata": {},
   "outputs": [
    {
     "data": {
      "text/plain": [
       "'SPYD.BA TSLAD.BA AAPLD.BA ADBED.BA ADGOD.BA NVDAD.BA PYPLD.BA BABAD.BA AMDD.BA AEMD.BA DIAD.BA QQQD.BA MSFTD.BA AMZND.BA GOGLD.BA NIOD.BA BRKBD.BA AMGND.BA AVGOD.BA XLFD.BA JNJD.BA COIND.BA METAD.BA PBRD.BA DISND.BA BAD.BA BBDD.BA INTCD.BA EWZD.BA XLED.BA VALED.BA IWMD.BA BA.CD.BA BIOXD.BA BITFD.BA TEND.BA CVXD.BA FSLRD.BA GLOBD.BA UPSTD.BA MCDD.BA ARKKD.BA CD.BA MSTRD.BA GOLDD.BA IBMD.BA VD.BA JMIAD.BA NKED.BA UNHD.BA JDD.BA HUTD.BA JPMD.BA TSMD.BA GILDD.BA KOD.BA NFLXD.BA LLYD.BA MELID.BA MMMD.BA BIDUD.BA PEPD.BA PAASD.BA OXYD.BA PFED.BA PGD.BA XD.BA QCOMD.BA HMYD.BA RIOD.BA HSYD.BA CSCOD.BA SBUXD.BA EEMD.BA SONYD.BA ORCLD.BA NUD.BA PLTRD.BA LACD.BA AAPD.BA MUXD.BA PAGSD.BA STNED.BA MRVLD.BA SHPWD.BA SDAD.BA AALD.BA TMD.BA DESPD.BA MOD.BA DED.BA CATD.BA SQD.BA BNGD.BA COSTD.BA RTXD.BA TXRD.BA TXND.BA ETSYD.BA LYGD.BA TD.BA FD.BA USBD.BA SLBD.BA AXPD.BA CRMD.BA VISTD.BA SHOPD.BA WBAD.BA DOWD.BA BRFSD.BA ZMD.BA GGBD.BA GED.BA PKSD.BA DEOD.BA SPGID.BA VODD.BA ABNBD.BA HALD.BA ABBVD.BA ULD.BA SHELD.BA SATLD.BA WFCD.BA NEMD.BA MRKD.BA SPOTD.BA GMD.BA CDED.BA TRIPD.BA PANWD.BA BB.D.BA AZND.BA MAD.BA EAD.BA AMATD.BA NTCOD.BA ERJD.BA HDD.BA BHPD.BA SNOWD.BA FDXD.BA UBERD.BA ABTD.BA MUD.BA VZD.BA BIIBD.BA TWLOD.BA ARCOD.BA WMTD.BA DOCUD.BA RBLXD.BA LMTD.BA GSD.BA ERICD.BA EBAYD.BA ABEVD.BA SED.BA BPD.BA NOKAD.BA LRCXD.BA GPRKD.BA AIGD.BA ITUBD.BA UALD.BA CARD.BA FCXD.BA CAHD.BA MOSD.BA GFID.BA BMYD.BA HMCD.BA HWMD.BA BBVD.BA GSKD.BA WBOD.BA CBRDD.BA XOMD.BA BKD.BA LVSD.BA TGTD.BA NTESD.BA MSID.BA SYYD.BA ADPD.BA ADID.BA CLD.BA AEGD.BA BSBRD.BA TEFOD.BA SAND.BA HPQD.BA KMBD.BA HLD.BA IBND.BA CAAPD.BA AMXD.BA PHGD.BA TVD.BA HOND.BA GLWD.BA INFYD.BA UGPD.BA SIDD.BA IPD.BA KGCD.BA UNPD.BA BCSD.BA PSXD.BA DDD.BA YYD.BA PMD.BA CVSD.BA MDLZD.BA DALD.BA CCLD.BA ACND.BA SCHWD.BA MRNAD.BA STLAD.BA BKNGD.BA TMUSD.BA SPCED.BA RIOTD.BA ROKUD.BA RACED.BA SWKSD.BA PINSD.BA SPY.BA TSLA.BA AAPL.BA ADBE.BA ADGO.BA NVDA.BA PYPL.BA BABA.BA AMD.BA AEM.BA DIA.BA QQQ.BA MSFT.BA AMZN.BA GOOGL.BA NIO.BA BRKB.BA AMGN.BA AVGO.BA XLF.BA JNJ.BA COIN.BA META.BA PBR.BA DISN.BA BA.BA BBD.BA INTC.BA EWZ.BA XLE.BA VALE.BA IWM.BA BA.C.BA BIOX.BA BITF.BA TEN.BA CVX.BA FSLR.BA GLOB.BA UPST.BA MCD.BA ARKK.BA C.BA MSTR.BA GOLD.BA IBM.BA V.BA JMIA.BA NKE.BA UNH.BA JD.BA HUT.BA JPM.BA TSM.BA GILD.BA KO.BA NFLX.BA LLY.BA MELI.BA MMM.BA BIDU.BA PEP.BA PAAS.BA OXY.BA PFE.BA PG.BA X.BA QCOM.BA HMY.BA RIO.BA HSY.BA CSCO.BA SBUX.BA EEM.BA SONY.BA ORCL.BA NU.BA PLTR.BA LAC.BA AAP.BA MUX.BA PAGS.BA STNE.BA MRVL.BA SHPW.BA SDA.BA AAL.BA TM.BA DESP.BA MO.BA DE.BA CAT.BA SQ.BA BNG.BA COST.BA RTX.BA TXR.BA TXN.BA ETSY.BA LYG.BA T.BA F.BA USB.BA SLB.BA AXP.BA CRM.BA VIST.BA SHOP.BA WBA.BA DOW.BA BRFS.BA ZM.BA GGB.BA GE.BA PKS.BA DEO.BA SPGI.BA VOD.BA ABNB.BA HAL.BA ABBV.BA UL.BA SHEL.BA SATL.BA WFC.BA NEM.BA MRK.BA SPOT.BA GM.BA CDE.BA TRIP.BA PANW.BA BB.BA AZN.BA MA.BA EA.BA AMAT.BA NTCO.BA ERJ.BA HD.BA BHP.BA SNOW.BA FDX.BA UBER.BA ABT.BA MU.BA VZ.BA BIIB.BA TWLO.BA ARCO.BA WMT.BA DOCU.BA RBLX.BA LMT.BA GS.BA ERIC.BA EBAY.BA ABEV.BA SE.BA BP.BA NOKA.BA LRCX.BA PM.BA CVS.BA MDLZ.BA DAL.BA CCL.BA ACN.BA SCHW.BA MRNA.BA STLA.BA BKNG.BA TMUS.BA SPCE.BA RIOT.BA ROKU.BA RACE.BA SWKS.BA PINS.BA GPRK.BA AIG.BA ITUB.BA UAL.BA CAR.BA FCX.BA CAH.BA MOS.BA GFI.BA BMY.BA HMC.BA HWM.BA BBV.BA GSK.BA WBO.BA CBRD.BA XOM.BA BK.BA LVS.BA TGT.BA NTES.BA MSI.BA SYY.BA ADP.BA ADI.BA CL.BA AEG.BA BSBR.BA TEFO.BA SAN.BA HPQ.BA KMB.BA HL.BA IBN.BA CAAP.BA AMX.BA PHG.BA TV.BA HON.BA GLW.BA INFY.BA UGP.BA SID.BA IP.BA KGC.BA UNP.BA BCS.BA PSX.BA DD.BA YY.BA'"
      ]
     },
     "execution_count": 3,
     "metadata": {},
     "output_type": "execute_result"
    }
   ],
   "source": [
    "#Get CEDEARS tickers\n",
    "string = open(\"CEDEARS.txt\")\n",
    "string = string.read().replace(\"\\n\" , \" \")\n",
    "string"
   ]
  },
  {
   "cell_type": "code",
   "execution_count": 4,
   "metadata": {},
   "outputs": [
    {
     "name": "stderr",
     "output_type": "stream",
     "text": [
      "[*                      3%%                      ]  15 of 458 completed"
     ]
    },
    {
     "name": "stdout",
     "output_type": "stream",
     "text": [
      "$BKD.BA: possibly delisted; No price data found  (period=3mo)\n"
     ]
    },
    {
     "name": "stderr",
     "output_type": "stream",
     "text": [
      "[***                    6%%                      ]  28 of 458 completed"
     ]
    },
    {
     "name": "stdout",
     "output_type": "stream",
     "text": [
      "$HOND.BA: possibly delisted; No price data found  (period=3mo)\n"
     ]
    },
    {
     "name": "stderr",
     "output_type": "stream",
     "text": [
      "[****                   8%%                      ]  38 of 458 completed"
     ]
    },
    {
     "name": "stdout",
     "output_type": "stream",
     "text": [
      "$UGPD.BA: possibly delisted; No price data found  (period=3mo)\n"
     ]
    },
    {
     "name": "stderr",
     "output_type": "stream",
     "text": [
      "[**************        30%%                      ]  137 of 458 completed"
     ]
    },
    {
     "name": "stdout",
     "output_type": "stream",
     "text": [
      "$ADID.BA: possibly delisted; No price data found  (period=3mo)\n"
     ]
    },
    {
     "name": "stderr",
     "output_type": "stream",
     "text": [
      "[****************      34%%                      ]  154 of 458 completed"
     ]
    },
    {
     "name": "stdout",
     "output_type": "stream",
     "text": [
      "$HPQD.BA: possibly delisted; No price data found  (period=3mo)\n"
     ]
    },
    {
     "name": "stderr",
     "output_type": "stream",
     "text": [
      "[**********************62%%****                  ]  285 of 458 completed"
     ]
    },
    {
     "name": "stdout",
     "output_type": "stream",
     "text": [
      "$BRFSD.BA: possibly delisted; No price data found  (period=3mo)\n"
     ]
    },
    {
     "name": "stderr",
     "output_type": "stream",
     "text": [
      "[**********************78%%***********           ]  358 of 458 completed"
     ]
    },
    {
     "name": "stdout",
     "output_type": "stream",
     "text": [
      "$YYD.BA: possibly delisted; No price data found  (period=3mo)\n"
     ]
    },
    {
     "name": "stderr",
     "output_type": "stream",
     "text": [
      "[**********************84%%**************        ]  385 of 458 completed"
     ]
    },
    {
     "name": "stdout",
     "output_type": "stream",
     "text": [
      "$CBRDD.BA: possibly delisted; No price data found  (period=3mo)\n"
     ]
    },
    {
     "name": "stderr",
     "output_type": "stream",
     "text": [
      "[**********************94%%*******************   ]  429 of 458 completed"
     ]
    },
    {
     "name": "stdout",
     "output_type": "stream",
     "text": [
      "$AIGD.BA: possibly delisted; No price data found  (period=3mo)\n"
     ]
    },
    {
     "name": "stderr",
     "output_type": "stream",
     "text": [
      "[**********************94%%*******************   ]  432 of 458 completed"
     ]
    },
    {
     "name": "stdout",
     "output_type": "stream",
     "text": [
      "$HWMD.BA: possibly delisted; No price data found  (period=3mo)\n"
     ]
    },
    {
     "name": "stderr",
     "output_type": "stream",
     "text": [
      "[*********************100%%**********************]  458 of 458 completed\n",
      "\n",
      "123 Failed downloads:\n",
      "['HSY.BA', 'NIO.BA', 'TWLO.BA', 'RACED.BA', 'TEFO.BA', 'WBA.BA', 'DOCU.BA', 'ZM.BA', 'MRVLD.BA', 'CVSD.BA', 'AAL.BA', 'BMYD.BA', 'RIOTD.BA', 'SED.BA', 'SHOP.BA', 'VIST.BA', 'GPRK.BA', 'BRKBD.BA', 'TWLOD.BA', 'GGBD.BA', 'SE.BA', 'XLED.BA', 'AVGO.BA', 'TEN.BA', 'LRCXD.BA', 'EA.BA', 'PAASD.BA', 'DALD.BA', 'MA.BA', 'DOWD.BA', 'SNOW.BA', 'COIND.BA', 'DDD.BA', 'PBR.BA', 'NIOD.BA', 'SDA.BA', 'CAAP.BA', 'MDLZD.BA', 'PKS.BA', 'SPOT.BA', 'STLAD.BA', 'META.BA', 'YY.BA', 'GMD.BA', 'ACND.BA', 'QQQD.BA', 'GM.BA', 'CCLD.BA', 'NUD.BA', 'HAL.BA', 'NTES.BA', 'DOW.BA', 'SPGID.BA', 'PLTRD.BA', 'LACD.BA', 'LRCX.BA', 'UNP.BA', 'ETSY.BA', 'PSX.BA', 'UNH.BA', 'SQ.BA', 'PAGS.BA', 'COIN.BA']: YFInvalidPeriodError(\"%ticker%: Period '3mo' is invalid, must be one of ['1d', '5d']\")\n",
      "['GFID.BA', 'SCHW.BA', 'TEFOD.BA', 'CDED.BA', 'AEGD.BA', 'MSID.BA', 'SCHWD.BA', 'ROKUD.BA', 'AAPD.BA', 'DEOD.BA', 'BA.C.BA', 'SHPWD.BA', 'IBND.BA', 'GLWD.BA', 'LYGD.BA', 'ADPD.BA', 'USBD.BA', 'SPCED.BA', 'SDAD.BA', 'CARD.BA', 'BCSD.BA', 'BSBRD.BA', 'MRNAD.BA', 'BB.D.BA', 'INFYD.BA', 'FSLRD.BA', 'SAND.BA', 'NTCOD.BA', 'KGCD.BA', 'PAGSD.BA', 'PHGD.BA', 'MUXD.BA', 'CD.BA', 'BA.CD.BA', 'BHPD.BA', 'SYYD.BA', 'LVSD.BA', 'HMCD.BA', 'SWKS.BA', 'TVD.BA', 'BKNGD.BA', 'STNED.BA', 'PKSD.BA', 'PMD.BA', 'TMUSD.BA', 'SIDD.BA', 'NOKAD.BA', 'AEMD.BA', 'PINSD.BA', 'SWKSD.BA']: YFChartError('%ticker%: No data found, symbol may be delisted')\n",
      "['BKD.BA', 'HOND.BA', 'UGPD.BA', 'ADID.BA', 'HPQD.BA', 'BRFSD.BA', 'YYD.BA', 'CBRDD.BA', 'AIGD.BA', 'HWMD.BA']: YFPricesMissingError('$%ticker%: possibly delisted; No price data found  (period=3mo)')\n"
     ]
    }
   ],
   "source": [
    "#download dataframe from yfinance with information of last 3 months\n",
    "market=yf.Tickers(string)\n",
    "stocks_df = market.history(period=\"3mo\")"
   ]
  },
  {
   "cell_type": "code",
   "execution_count": 5,
   "metadata": {},
   "outputs": [
    {
     "data": {
      "text/html": [
       "<div>\n",
       "<style scoped>\n",
       "    .dataframe tbody tr th:only-of-type {\n",
       "        vertical-align: middle;\n",
       "    }\n",
       "\n",
       "    .dataframe tbody tr th {\n",
       "        vertical-align: top;\n",
       "    }\n",
       "\n",
       "    .dataframe thead th {\n",
       "        text-align: right;\n",
       "    }\n",
       "</style>\n",
       "<table border=\"1\" class=\"dataframe\">\n",
       "  <thead>\n",
       "    <tr style=\"text-align: right;\">\n",
       "      <th></th>\n",
       "      <th>Parkinson_Volatility</th>\n",
       "      <th>Volatility</th>\n",
       "      <th>Difference</th>\n",
       "    </tr>\n",
       "    <tr>\n",
       "      <th>Ticker</th>\n",
       "      <th></th>\n",
       "      <th></th>\n",
       "      <th></th>\n",
       "    </tr>\n",
       "  </thead>\n",
       "  <tbody>\n",
       "    <tr>\n",
       "      <th>AAL.BA</th>\n",
       "      <td>NaN</td>\n",
       "      <td>NaN</td>\n",
       "      <td>NaN</td>\n",
       "    </tr>\n",
       "    <tr>\n",
       "      <th>AALD.BA</th>\n",
       "      <td>0.508317</td>\n",
       "      <td>0.493308</td>\n",
       "      <td>0.015009</td>\n",
       "    </tr>\n",
       "    <tr>\n",
       "      <th>AAP.BA</th>\n",
       "      <td>0.533791</td>\n",
       "      <td>0.596156</td>\n",
       "      <td>-0.062364</td>\n",
       "    </tr>\n",
       "    <tr>\n",
       "      <th>AAPD.BA</th>\n",
       "      <td>NaN</td>\n",
       "      <td>NaN</td>\n",
       "      <td>NaN</td>\n",
       "    </tr>\n",
       "    <tr>\n",
       "      <th>AAPL.BA</th>\n",
       "      <td>0.292920</td>\n",
       "      <td>0.278479</td>\n",
       "      <td>0.014442</td>\n",
       "    </tr>\n",
       "  </tbody>\n",
       "</table>\n",
       "</div>"
      ],
      "text/plain": [
       "         Parkinson_Volatility  Volatility  Difference\n",
       "Ticker                                               \n",
       "AAL.BA                    NaN         NaN         NaN\n",
       "AALD.BA              0.508317    0.493308    0.015009\n",
       "AAP.BA               0.533791    0.596156   -0.062364\n",
       "AAPD.BA                   NaN         NaN         NaN\n",
       "AAPL.BA              0.292920    0.278479    0.014442"
      ]
     },
     "execution_count": 5,
     "metadata": {},
     "output_type": "execute_result"
    }
   ],
   "source": [
    "#Create our main dataframe to work with\n",
    "pv = parkinson_volatility(stocks_df['High'], stocks_df['Low'])\n",
    "v = volatility(stocks_df['Close'])\n",
    "\n",
    "v_df = pv.to_frame(name=\"Parkinson_Volatility\")\n",
    "v_df[\"Volatility\"] = v\n",
    "v_df[\"Difference\"] = pv - v \n",
    "v_df.head()"
   ]
  },
  {
   "cell_type": "code",
   "execution_count": 6,
   "metadata": {},
   "outputs": [
    {
     "name": "stdout",
     "output_type": "stream",
     "text": [
      "Data loss after dropn NaN:  0.6877729257641921\n",
      "Number of stocks remaining:  458\n"
     ]
    }
   ],
   "source": [
    "print(\"Data loss after dropn NaN: \" , len(v_df.dropna())/ len(v_df))\n",
    "print(\"Number of stocks remaining: \" , len(v_df))\n",
    "v_df.dropna(inplace=True)"
   ]
  },
  {
   "cell_type": "code",
   "execution_count": 7,
   "metadata": {},
   "outputs": [],
   "source": [
    "import seaborn as sns\n",
    "import matplotlib.pyplot as plt \n",
    "\n",
    "#This function have 2 parameters: dif and v \n",
    "#Return TOP-20 stocks with Difference(pv - v) > dif and Volatility < v\n",
    "#in others words this function helps the user to find the stocks with a minimum Difference given an upper bound of volatility\n",
    "\n",
    "def find_ticker(dif , v):\n",
    "\n",
    "    df = v_df[(v_df.Difference > 0) & (v_df.Difference > dif) & (v_df.Volatility < v)]\n",
    "    if len(df)==0:\n",
    "        return print(\"No stocks funded\")\n",
    "    plt.figure(figsize=(24,12))\n",
    "    plt.title(f\"Difference between Volatility and Parkinson volatility TOP-20 (Difference > {dif} , Volatility < {v})\")\n",
    "    sns.barplot(df.Difference.sort_values(ascending=False).head(20))"
   ]
  },
  {
   "cell_type": "code",
   "execution_count": 8,
   "metadata": {},
   "outputs": [
    {
     "data": {
      "image/png": "[encoded data removed]",
      "text/plain": [
       "<Figure size 2400x1200 with 1 Axes>"
      ]
     },
     "metadata": {},
     "output_type": "display_data"
    }
   ],
   "source": [
    "find_ticker(0.1 , 0.5)"
   ]
  },
  {
   "cell_type": "code",
   "execution_count": 9,
   "metadata": {},
   "outputs": [],
   "source": [
    "import pickle \n",
    "\n",
    "pickle.dump(find_ticker , open(\"find_ticker\" , \"wb\"))"
   ]
  }
 ],
 "metadata": {
  "kernelspec": {
   "display_name": "Python 3",
   "language": "python",
   "name": "python3"
  },
  "language_info": {
   "codemirror_mode": {
    "name": "ipython",
    "version": 3
   },
   "file_extension": ".py",
   "mimetype": "text/x-python",
   "name": "python",
   "nbconvert_exporter": "python",
   "pygments_lexer": "ipython3",
   "version": "3.12.0"
  }
 },
 "nbformat": 4,
 "nbformat_minor": 2
}
