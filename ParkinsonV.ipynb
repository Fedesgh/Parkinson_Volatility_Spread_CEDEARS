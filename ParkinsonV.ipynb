{
 "cells": [
  {
   "cell_type": "code",
   "execution_count": null,
   "metadata": {},
   "outputs": [],
   "source": [
    "import yfinance as yf\n",
    "import pandas as pd\n",
    "import numpy as np"
   ]
  },
  {
   "cell_type": "code",
   "execution_count": null,
   "metadata": {},
   "outputs": [],
   "source": [
    "def volatility(close):\n",
    "    log_rets = np.log(close/close.shift())\n",
    "    return log_rets.std() * 250**0.5\n",
    "\n",
    "def parkinson_volatility(high, low):\n",
    "    log_hl = np.log(high / low)\n",
    "    squared_log_hl = log_hl ** 2\n",
    "    factor = 1 / (4 * np.log(2))\n",
    "    parkinson_vol = np.sqrt(factor * squared_log_hl.mean())\n",
    "    return parkinson_vol * 250**0.5"
   ]
  },
  {
   "cell_type": "code",
   "execution_count": null,
   "metadata": {},
   "outputs": [],
   "source": []
  },
  {
   "cell_type": "code",
   "execution_count": null,
   "metadata": {},
   "outputs": [],
   "source": []
  }
 ],
 "metadata": {
  "language_info": {
   "name": "python"
  }
 },
 "nbformat": 4,
 "nbformat_minor": 2
}
